{
 "cells": [
  {
   "cell_type": "markdown",
   "metadata": {},
   "source": [
    "# Quality and Cost: A Review of Home Health Care Agency Data"
   ]
  },
  {
   "cell_type": "markdown",
   "metadata": {},
   "source": [
    "**Introduction**\n",
    "\n",
    "The United States Centers for Medicare & Medicaid Services (CMS) is the federal government entity that oversees the Medicare and Medicaid insurance policies provided by the United States federal government. These health insurance policies insure specific vulnerable populations: Medicare typically serves adults over age 65, some younger people with disabilities and those with End-Stage Renal Disease, and Medicaid is a federal and state health insurance program for some people who have limited income or resources. Each of these insurance policies covers in-home health care for qualifying patients.\n",
    "\n",
    "As a national regulatory agency and federal health insurance provider, the Centers for Medicare & Medicaid Services also tracks a myriad of metrics regarding access, quality assurance and cost of healthcare in the United States. There are clear ethical reasons for Medicare/Medicaid to investigate and correct quality assurance deficiencies in regards to home healthcare, as well as compelling budgetary reasons to reduce rates of poor care, which can cause preventable infection, falls, hospital readmissions and other increases in a patient’s treatment needs.\n",
    "\n",
    "The CMS “Home Health Care Agencies” dataset compiles state averages of Home Health Agency demographic and quality measurements, including metrics such as area-wide frequency of hospital admission for home health patients and frequency of improvement in patient ambulation. \n"
   ]
  },
  {
   "cell_type": "markdown",
   "metadata": {},
   "source": [
    "**Proposal**\n",
    "\n",
    "I plan to use the “Home Health Care Agencies” dataset to investigate whether the quality metrics tracked can predict Medicare costs, hypothesizing that lower quality care is linked to higher comparative Medicare cost. The features in the dataset which address quality of care, features regarding hospital admission, improving patient mobility, documentation of flu shots are all regarding issues decreasing patient outcomes and potential increase in patient costs. The target variable in this case is measured in the dataset as medical spending on care for one particular agency as compared to medicare spending across all agencies nationally. "
   ]
  },
  {
   "cell_type": "code",
   "execution_count": 1,
   "metadata": {},
   "outputs": [],
   "source": [
    "import matplotlib.pyplot as plt\n",
    "import pandas as pd\n",
    "import numpy as np\n",
    "import seaborn as sns\n",
    "import scipy.stats as stats\n",
    "\n",
    "plt.rcParams['figure.figsize'] = (20, 20)\n",
    "plt.rcParams['font.size'] = 14\n",
    "plt.style.use('fivethirtyeight')\n",
    "\n",
    "%matplotlib inline\n",
    "\n",
    "pd.set_option('display.max_rows', None)\n",
    "pd.set_option('display.max_columns', None)"
   ]
  },
  {
   "cell_type": "code",
   "execution_count": 2,
   "metadata": {},
   "outputs": [],
   "source": [
    "# The Centers for Medicare & Medicaid Services - \n",
    "# Home Health Care Agencies original data: \n",
    "# https://data.cms.gov/provider-data/dataset/tee5-ixt5\n",
    "\n",
    "technical_df = '/Users/LiaG/Desktop/datasets/home_health_technical.csv'\n",
    "\n",
    "technical_df = pd.read_csv(technical_df, encoding='latin-1', parse_dates=['date_certified'])"
   ]
  },
  {
   "cell_type": "code",
   "execution_count": 3,
   "metadata": {},
   "outputs": [
    {
     "data": {
      "text/html": [
       "<div>\n",
       "<style scoped>\n",
       "    .dataframe tbody tr th:only-of-type {\n",
       "        vertical-align: middle;\n",
       "    }\n",
       "\n",
       "    .dataframe tbody tr th {\n",
       "        vertical-align: top;\n",
       "    }\n",
       "\n",
       "    .dataframe thead th {\n",
       "        text-align: right;\n",
       "    }\n",
       "</style>\n",
       "<table border=\"1\" class=\"dataframe\">\n",
       "  <thead>\n",
       "    <tr style=\"text-align: right;\">\n",
       "      <th></th>\n",
       "      <th>date_certified</th>\n",
       "      <th>freq_timely_care</th>\n",
       "      <th>freq_rx_ed</th>\n",
       "      <th>freq_flu_shot_documented</th>\n",
       "      <th>freq_pt_improved_ambulation</th>\n",
       "      <th>freq_pt_improved_bed_mobility</th>\n",
       "      <th>freq_pt_improved_bathing</th>\n",
       "      <th>freq_pt_improved_breathing</th>\n",
       "      <th>freq_pt_improved_rx_po</th>\n",
       "      <th>freq_pt_admit</th>\n",
       "      <th>freq_er_no_admit</th>\n",
       "      <th>freq_post-acute_pressure_ulcer/injury</th>\n",
       "      <th>freq_md_rec_completed_ontime</th>\n",
       "      <th>dtc_numerator</th>\n",
       "      <th>dtc_denominator</th>\n",
       "      <th>dtc_observed_rate</th>\n",
       "      <th>dtc_risk-standardized_rate</th>\n",
       "      <th>dtc_risk-standardized_rate_min</th>\n",
       "      <th>dtc_risk-standardized_rate_max</th>\n",
       "      <th>ppr_numerator</th>\n",
       "      <th>ppr_denominator</th>\n",
       "      <th>ppr_observed_rate</th>\n",
       "      <th>ppr_risk-standardized_rate</th>\n",
       "      <th>ppr_risk-standardized_rate_min</th>\n",
       "      <th>ppr_risk-standardized_rate_max</th>\n",
       "      <th>num_episodes</th>\n",
       "      <th>ownership_type_GOVERNMENT - LOCAL</th>\n",
       "      <th>ownership_type_GOVERNMENT - STATE/COUNTY</th>\n",
       "      <th>ownership_type_PROPRIETARY</th>\n",
       "      <th>ownership_type_VOLUNTARY NON PROFIT - RELIGIOUS AFFILIATION</th>\n",
       "      <th>ownership_type_VOLUNTARY NON-PROFIT - OTHER</th>\n",
       "      <th>ownership_type_VOLUNTARY NON-PROFIT - PRIVATE</th>\n",
       "      <th>physical_therapy_Yes</th>\n",
       "      <th>occupational_therapy_Yes</th>\n",
       "      <th>speech_pathology_Yes</th>\n",
       "      <th>medical_social_Yes</th>\n",
       "      <th>home_health_aide_Yes</th>\n",
       "      <th>quality_rating_1.5</th>\n",
       "      <th>quality_rating_2.0</th>\n",
       "      <th>quality_rating_2.5</th>\n",
       "      <th>quality_rating_3.0</th>\n",
       "      <th>quality_rating_3.5</th>\n",
       "      <th>quality_rating_4.0</th>\n",
       "      <th>quality_rating_4.5</th>\n",
       "      <th>quality_rating_5.0</th>\n",
       "      <th>quality_rating_3.5.1</th>\n",
       "      <th>dtc_performance_categorization_Not Available</th>\n",
       "      <th>dtc_performance_categorization_Same As National Rate</th>\n",
       "      <th>dtc_performance_categorization_Worse Than National Rate</th>\n",
       "      <th>ppr_performance_categorization_Not Available</th>\n",
       "      <th>ppr_performance_categorization_Same As National Rate</th>\n",
       "      <th>ppr_performance_categorization_Worse Than National Rate</th>\n",
       "      <th>episodic_medicare_spending</th>\n",
       "    </tr>\n",
       "  </thead>\n",
       "  <tbody>\n",
       "    <tr>\n",
       "      <td>0</td>\n",
       "      <td>1966-07-01</td>\n",
       "      <td>93.4</td>\n",
       "      <td>98.8</td>\n",
       "      <td>55.3</td>\n",
       "      <td>86.3</td>\n",
       "      <td>84.6</td>\n",
       "      <td>86.6</td>\n",
       "      <td>81.4</td>\n",
       "      <td>78.9</td>\n",
       "      <td>14.4</td>\n",
       "      <td>15.8</td>\n",
       "      <td>0.00</td>\n",
       "      <td>91.6</td>\n",
       "      <td>845.0</td>\n",
       "      <td>1066.0</td>\n",
       "      <td>79.27</td>\n",
       "      <td>88.24</td>\n",
       "      <td>85.77</td>\n",
       "      <td>90.90</td>\n",
       "      <td>16.0</td>\n",
       "      <td>434.0</td>\n",
       "      <td>3.69</td>\n",
       "      <td>3.34</td>\n",
       "      <td>2.50</td>\n",
       "      <td>4.39</td>\n",
       "      <td>2130</td>\n",
       "      <td>0</td>\n",
       "      <td>1</td>\n",
       "      <td>0</td>\n",
       "      <td>0</td>\n",
       "      <td>0</td>\n",
       "      <td>0</td>\n",
       "      <td>1</td>\n",
       "      <td>1</td>\n",
       "      <td>1</td>\n",
       "      <td>1</td>\n",
       "      <td>1</td>\n",
       "      <td>0</td>\n",
       "      <td>0</td>\n",
       "      <td>0</td>\n",
       "      <td>0</td>\n",
       "      <td>0</td>\n",
       "      <td>1</td>\n",
       "      <td>0</td>\n",
       "      <td>0</td>\n",
       "      <td>0</td>\n",
       "      <td>0</td>\n",
       "      <td>0</td>\n",
       "      <td>0</td>\n",
       "      <td>0</td>\n",
       "      <td>1</td>\n",
       "      <td>0</td>\n",
       "      <td>0.89</td>\n",
       "    </tr>\n",
       "    <tr>\n",
       "      <td>1</td>\n",
       "      <td>1973-01-18</td>\n",
       "      <td>97.1</td>\n",
       "      <td>99.6</td>\n",
       "      <td>75.4</td>\n",
       "      <td>83.2</td>\n",
       "      <td>80.2</td>\n",
       "      <td>83.4</td>\n",
       "      <td>82.1</td>\n",
       "      <td>79.4</td>\n",
       "      <td>16.0</td>\n",
       "      <td>12.1</td>\n",
       "      <td>0.00</td>\n",
       "      <td>98.1</td>\n",
       "      <td>6741.0</td>\n",
       "      <td>8969.0</td>\n",
       "      <td>75.16</td>\n",
       "      <td>81.10</td>\n",
       "      <td>80.10</td>\n",
       "      <td>82.27</td>\n",
       "      <td>208.0</td>\n",
       "      <td>7190.0</td>\n",
       "      <td>2.89</td>\n",
       "      <td>2.95</td>\n",
       "      <td>2.60</td>\n",
       "      <td>3.31</td>\n",
       "      <td>19072</td>\n",
       "      <td>0</td>\n",
       "      <td>0</td>\n",
       "      <td>1</td>\n",
       "      <td>0</td>\n",
       "      <td>0</td>\n",
       "      <td>0</td>\n",
       "      <td>1</td>\n",
       "      <td>1</td>\n",
       "      <td>1</td>\n",
       "      <td>1</td>\n",
       "      <td>1</td>\n",
       "      <td>0</td>\n",
       "      <td>0</td>\n",
       "      <td>0</td>\n",
       "      <td>0</td>\n",
       "      <td>1</td>\n",
       "      <td>0</td>\n",
       "      <td>0</td>\n",
       "      <td>0</td>\n",
       "      <td>0</td>\n",
       "      <td>0</td>\n",
       "      <td>0</td>\n",
       "      <td>0</td>\n",
       "      <td>0</td>\n",
       "      <td>0</td>\n",
       "      <td>0</td>\n",
       "      <td>0.99</td>\n",
       "    </tr>\n",
       "    <tr>\n",
       "      <td>2</td>\n",
       "      <td>1975-07-24</td>\n",
       "      <td>99.8</td>\n",
       "      <td>99.8</td>\n",
       "      <td>75.0</td>\n",
       "      <td>80.8</td>\n",
       "      <td>79.2</td>\n",
       "      <td>84.2</td>\n",
       "      <td>84.8</td>\n",
       "      <td>73.7</td>\n",
       "      <td>15.4</td>\n",
       "      <td>13.7</td>\n",
       "      <td>0.11</td>\n",
       "      <td>91.9</td>\n",
       "      <td>609.0</td>\n",
       "      <td>794.0</td>\n",
       "      <td>76.70</td>\n",
       "      <td>79.59</td>\n",
       "      <td>76.48</td>\n",
       "      <td>82.71</td>\n",
       "      <td>15.0</td>\n",
       "      <td>530.0</td>\n",
       "      <td>2.83</td>\n",
       "      <td>3.62</td>\n",
       "      <td>2.67</td>\n",
       "      <td>4.75</td>\n",
       "      <td>1734</td>\n",
       "      <td>0</td>\n",
       "      <td>0</td>\n",
       "      <td>1</td>\n",
       "      <td>0</td>\n",
       "      <td>0</td>\n",
       "      <td>0</td>\n",
       "      <td>1</td>\n",
       "      <td>1</td>\n",
       "      <td>0</td>\n",
       "      <td>0</td>\n",
       "      <td>1</td>\n",
       "      <td>0</td>\n",
       "      <td>0</td>\n",
       "      <td>0</td>\n",
       "      <td>0</td>\n",
       "      <td>0</td>\n",
       "      <td>1</td>\n",
       "      <td>0</td>\n",
       "      <td>0</td>\n",
       "      <td>0</td>\n",
       "      <td>0</td>\n",
       "      <td>1</td>\n",
       "      <td>0</td>\n",
       "      <td>0</td>\n",
       "      <td>1</td>\n",
       "      <td>0</td>\n",
       "      <td>1.08</td>\n",
       "    </tr>\n",
       "    <tr>\n",
       "      <td>3</td>\n",
       "      <td>1975-09-04</td>\n",
       "      <td>99.6</td>\n",
       "      <td>99.0</td>\n",
       "      <td>67.3</td>\n",
       "      <td>82.8</td>\n",
       "      <td>82.0</td>\n",
       "      <td>90.2</td>\n",
       "      <td>89.2</td>\n",
       "      <td>83.5</td>\n",
       "      <td>11.0</td>\n",
       "      <td>16.4</td>\n",
       "      <td>0.10</td>\n",
       "      <td>96.8</td>\n",
       "      <td>370.0</td>\n",
       "      <td>474.0</td>\n",
       "      <td>78.06</td>\n",
       "      <td>83.12</td>\n",
       "      <td>79.41</td>\n",
       "      <td>86.89</td>\n",
       "      <td>14.0</td>\n",
       "      <td>345.0</td>\n",
       "      <td>4.06</td>\n",
       "      <td>3.56</td>\n",
       "      <td>2.62</td>\n",
       "      <td>4.84</td>\n",
       "      <td>882</td>\n",
       "      <td>0</td>\n",
       "      <td>0</td>\n",
       "      <td>1</td>\n",
       "      <td>0</td>\n",
       "      <td>0</td>\n",
       "      <td>0</td>\n",
       "      <td>1</td>\n",
       "      <td>1</td>\n",
       "      <td>1</td>\n",
       "      <td>1</td>\n",
       "      <td>1</td>\n",
       "      <td>0</td>\n",
       "      <td>0</td>\n",
       "      <td>0</td>\n",
       "      <td>0</td>\n",
       "      <td>0</td>\n",
       "      <td>0</td>\n",
       "      <td>1</td>\n",
       "      <td>0</td>\n",
       "      <td>0</td>\n",
       "      <td>0</td>\n",
       "      <td>0</td>\n",
       "      <td>0</td>\n",
       "      <td>0</td>\n",
       "      <td>1</td>\n",
       "      <td>0</td>\n",
       "      <td>0.98</td>\n",
       "    </tr>\n",
       "    <tr>\n",
       "      <td>4</td>\n",
       "      <td>1976-06-09</td>\n",
       "      <td>99.4</td>\n",
       "      <td>100.0</td>\n",
       "      <td>85.7</td>\n",
       "      <td>85.1</td>\n",
       "      <td>87.2</td>\n",
       "      <td>88.0</td>\n",
       "      <td>92.3</td>\n",
       "      <td>84.0</td>\n",
       "      <td>15.7</td>\n",
       "      <td>16.9</td>\n",
       "      <td>0.06</td>\n",
       "      <td>96.0</td>\n",
       "      <td>592.0</td>\n",
       "      <td>730.0</td>\n",
       "      <td>81.10</td>\n",
       "      <td>84.63</td>\n",
       "      <td>81.94</td>\n",
       "      <td>87.71</td>\n",
       "      <td>12.0</td>\n",
       "      <td>424.0</td>\n",
       "      <td>2.83</td>\n",
       "      <td>3.34</td>\n",
       "      <td>2.48</td>\n",
       "      <td>4.54</td>\n",
       "      <td>1187</td>\n",
       "      <td>0</td>\n",
       "      <td>0</td>\n",
       "      <td>1</td>\n",
       "      <td>0</td>\n",
       "      <td>0</td>\n",
       "      <td>0</td>\n",
       "      <td>1</td>\n",
       "      <td>1</td>\n",
       "      <td>1</td>\n",
       "      <td>1</td>\n",
       "      <td>1</td>\n",
       "      <td>0</td>\n",
       "      <td>0</td>\n",
       "      <td>0</td>\n",
       "      <td>0</td>\n",
       "      <td>0</td>\n",
       "      <td>0</td>\n",
       "      <td>1</td>\n",
       "      <td>0</td>\n",
       "      <td>0</td>\n",
       "      <td>0</td>\n",
       "      <td>0</td>\n",
       "      <td>0</td>\n",
       "      <td>0</td>\n",
       "      <td>1</td>\n",
       "      <td>0</td>\n",
       "      <td>0.99</td>\n",
       "    </tr>\n",
       "  </tbody>\n",
       "</table>\n",
       "</div>"
      ],
      "text/plain": [
       "  date_certified  freq_timely_care  freq_rx_ed  freq_flu_shot_documented  \\\n",
       "0     1966-07-01              93.4        98.8                      55.3   \n",
       "1     1973-01-18              97.1        99.6                      75.4   \n",
       "2     1975-07-24              99.8        99.8                      75.0   \n",
       "3     1975-09-04              99.6        99.0                      67.3   \n",
       "4     1976-06-09              99.4       100.0                      85.7   \n",
       "\n",
       "   freq_pt_improved_ambulation  freq_pt_improved_bed_mobility  \\\n",
       "0                         86.3                           84.6   \n",
       "1                         83.2                           80.2   \n",
       "2                         80.8                           79.2   \n",
       "3                         82.8                           82.0   \n",
       "4                         85.1                           87.2   \n",
       "\n",
       "   freq_pt_improved_bathing  freq_pt_improved_breathing  \\\n",
       "0                      86.6                        81.4   \n",
       "1                      83.4                        82.1   \n",
       "2                      84.2                        84.8   \n",
       "3                      90.2                        89.2   \n",
       "4                      88.0                        92.3   \n",
       "\n",
       "   freq_pt_improved_rx_po  freq_pt_admit  freq_er_no_admit  \\\n",
       "0                    78.9           14.4              15.8   \n",
       "1                    79.4           16.0              12.1   \n",
       "2                    73.7           15.4              13.7   \n",
       "3                    83.5           11.0              16.4   \n",
       "4                    84.0           15.7              16.9   \n",
       "\n",
       "   freq_post-acute_pressure_ulcer/injury  freq_md_rec_completed_ontime  \\\n",
       "0                                   0.00                          91.6   \n",
       "1                                   0.00                          98.1   \n",
       "2                                   0.11                          91.9   \n",
       "3                                   0.10                          96.8   \n",
       "4                                   0.06                          96.0   \n",
       "\n",
       "   dtc_numerator  dtc_denominator  dtc_observed_rate  \\\n",
       "0          845.0           1066.0              79.27   \n",
       "1         6741.0           8969.0              75.16   \n",
       "2          609.0            794.0              76.70   \n",
       "3          370.0            474.0              78.06   \n",
       "4          592.0            730.0              81.10   \n",
       "\n",
       "   dtc_risk-standardized_rate  dtc_risk-standardized_rate_min  \\\n",
       "0                       88.24                           85.77   \n",
       "1                       81.10                           80.10   \n",
       "2                       79.59                           76.48   \n",
       "3                       83.12                           79.41   \n",
       "4                       84.63                           81.94   \n",
       "\n",
       "   dtc_risk-standardized_rate_max  ppr_numerator  ppr_denominator  \\\n",
       "0                           90.90           16.0            434.0   \n",
       "1                           82.27          208.0           7190.0   \n",
       "2                           82.71           15.0            530.0   \n",
       "3                           86.89           14.0            345.0   \n",
       "4                           87.71           12.0            424.0   \n",
       "\n",
       "   ppr_observed_rate  ppr_risk-standardized_rate  \\\n",
       "0               3.69                        3.34   \n",
       "1               2.89                        2.95   \n",
       "2               2.83                        3.62   \n",
       "3               4.06                        3.56   \n",
       "4               2.83                        3.34   \n",
       "\n",
       "   ppr_risk-standardized_rate_min  ppr_risk-standardized_rate_max  \\\n",
       "0                            2.50                            4.39   \n",
       "1                            2.60                            3.31   \n",
       "2                            2.67                            4.75   \n",
       "3                            2.62                            4.84   \n",
       "4                            2.48                            4.54   \n",
       "\n",
       "   num_episodes  ownership_type_GOVERNMENT - LOCAL  \\\n",
       "0          2130                                  0   \n",
       "1         19072                                  0   \n",
       "2          1734                                  0   \n",
       "3           882                                  0   \n",
       "4          1187                                  0   \n",
       "\n",
       "   ownership_type_GOVERNMENT - STATE/COUNTY  ownership_type_PROPRIETARY  \\\n",
       "0                                         1                           0   \n",
       "1                                         0                           1   \n",
       "2                                         0                           1   \n",
       "3                                         0                           1   \n",
       "4                                         0                           1   \n",
       "\n",
       "   ownership_type_VOLUNTARY NON PROFIT - RELIGIOUS AFFILIATION  \\\n",
       "0                                                  0             \n",
       "1                                                  0             \n",
       "2                                                  0             \n",
       "3                                                  0             \n",
       "4                                                  0             \n",
       "\n",
       "   ownership_type_VOLUNTARY NON-PROFIT - OTHER  \\\n",
       "0                                            0   \n",
       "1                                            0   \n",
       "2                                            0   \n",
       "3                                            0   \n",
       "4                                            0   \n",
       "\n",
       "   ownership_type_VOLUNTARY NON-PROFIT - PRIVATE  physical_therapy_Yes  \\\n",
       "0                                              0                     1   \n",
       "1                                              0                     1   \n",
       "2                                              0                     1   \n",
       "3                                              0                     1   \n",
       "4                                              0                     1   \n",
       "\n",
       "   occupational_therapy_Yes  speech_pathology_Yes  medical_social_Yes  \\\n",
       "0                         1                     1                   1   \n",
       "1                         1                     1                   1   \n",
       "2                         1                     0                   0   \n",
       "3                         1                     1                   1   \n",
       "4                         1                     1                   1   \n",
       "\n",
       "   home_health_aide_Yes  quality_rating_1.5  quality_rating_2.0  \\\n",
       "0                     1                   0                   0   \n",
       "1                     1                   0                   0   \n",
       "2                     1                   0                   0   \n",
       "3                     1                   0                   0   \n",
       "4                     1                   0                   0   \n",
       "\n",
       "   quality_rating_2.5  quality_rating_3.0  quality_rating_3.5  \\\n",
       "0                   0                   0                   0   \n",
       "1                   0                   0                   1   \n",
       "2                   0                   0                   0   \n",
       "3                   0                   0                   0   \n",
       "4                   0                   0                   0   \n",
       "\n",
       "   quality_rating_4.0  quality_rating_4.5  quality_rating_5.0  \\\n",
       "0                   1                   0                   0   \n",
       "1                   0                   0                   0   \n",
       "2                   1                   0                   0   \n",
       "3                   0                   1                   0   \n",
       "4                   0                   1                   0   \n",
       "\n",
       "   quality_rating_3.5.1  dtc_performance_categorization_Not Available  \\\n",
       "0                     0                                             0   \n",
       "1                     0                                             0   \n",
       "2                     0                                             0   \n",
       "3                     0                                             0   \n",
       "4                     0                                             0   \n",
       "\n",
       "   dtc_performance_categorization_Same As National Rate  \\\n",
       "0                                                  0      \n",
       "1                                                  0      \n",
       "2                                                  1      \n",
       "3                                                  0      \n",
       "4                                                  0      \n",
       "\n",
       "   dtc_performance_categorization_Worse Than National Rate  \\\n",
       "0                                                  0         \n",
       "1                                                  0         \n",
       "2                                                  0         \n",
       "3                                                  0         \n",
       "4                                                  0         \n",
       "\n",
       "   ppr_performance_categorization_Not Available  \\\n",
       "0                                             0   \n",
       "1                                             0   \n",
       "2                                             0   \n",
       "3                                             0   \n",
       "4                                             0   \n",
       "\n",
       "   ppr_performance_categorization_Same As National Rate  \\\n",
       "0                                                  1      \n",
       "1                                                  0      \n",
       "2                                                  1      \n",
       "3                                                  1      \n",
       "4                                                  1      \n",
       "\n",
       "   ppr_performance_categorization_Worse Than National Rate  \\\n",
       "0                                                  0         \n",
       "1                                                  0         \n",
       "2                                                  0         \n",
       "3                                                  0         \n",
       "4                                                  0         \n",
       "\n",
       "   episodic_medicare_spending  \n",
       "0                        0.89  \n",
       "1                        0.99  \n",
       "2                        1.08  \n",
       "3                        0.98  \n",
       "4                        0.99  "
      ]
     },
     "execution_count": 3,
     "metadata": {},
     "output_type": "execute_result"
    }
   ],
   "source": [
    "technical_df.head()"
   ]
  },
  {
   "cell_type": "markdown",
   "metadata": {},
   "source": [
    "#### Data dictionary"
   ]
  },
  {
   "cell_type": "markdown",
   "metadata": {},
   "source": [
    "HH_Provider_MMMYYYY.csv (60 columns)\n",
    "This file contains information on the home health agency, the type of services offered to patients, and the values of the star rating and patient outcome and process quality measures reported for home health on Care Compare.\n",
    "\n",
    "The columns include the following information:\n",
    "\n",
    "**date_certified** – (Date) The original date the home health agency was certified to participate in the Medicare program.\n",
    "\n",
    "**freq_timely_care** – (Numeric) How often the home health team began their patients' care in a timely manner.\n",
    "\n",
    "**freq_rx_ed** – (Numeric) How often the home health team taught patients (or their family caregivers) about their drugs.\n",
    "\n",
    "**freq_flu_shot_documented** – (Numeric) How often the home health team determined whether patients received a flu shot for the current flu season.\n",
    "\n",
    "**freq_pt_improved_ambulation** – (Numeric) How often patients got better at walking or moving around.\n",
    "\n",
    "**freq_pt_improved_bed_mobility** – (Numeric) How often patients got better at getting in and out of bed.\n",
    "\n",
    "**freq_pt_improved_bathing** – (Numeric) How often patients got better at bathing.\n",
    "\n",
    "**freq_pt_improved_breathing** – (Numeric) How often patients' breathing improved.\n",
    "\n",
    "**freq_pt_improved_rx_po** – (Numeric) How often patients got better at taking their drugs correctly by mouth.\n",
    "\n",
    "**freq_pt_admit** – (Numeric) How often home health patients had to be admitted to the hospital.\n",
    "\n",
    "**freq_er_no_admit** – (Numeric) How often patients receiving home health care needed urgent, unplanned care in the ER without being admitted.\n",
    "\n",
    "**freq_post-acute_pressure_ulcer/injury** – (Numeric) Changes in skin integrity post-acute care: pressure ulcer/injury.\n",
    "\n",
    "**freq_md_rec_completed_ontime** – (Numeric) How often physician-recommended actions to address medication issues were completely timely.\n",
    "\n",
    "**dtc_numerator** – (Numeric) Observed Number of Discharges to Community.\n",
    "\n",
    "**dtc_denominator** – (Numeric) Number of Eligible Stays for DTC Measure.\n",
    "\n",
    "**dtc_observed_rate** – (Numeric) Observed Discharge to Community Rate.\n",
    "\n",
    "**dtc_risk-standardized_rate** – (Numeric) Risk-Standardized Discharge to Community Rate.\n",
    "\n",
    "**dtc_risk-standardized_rate_min** – (Numeric) Lower Limit of the 95% Confidence Interval on the Risk- Standardized Discharge to Community Rate.\n",
    "\n",
    "**dtc_risk-standardized_rate_max** – (Numeric) Upper Limit of the 95% Confidence Interval on the Risk- Standardized Discharge to Community Rate.\n",
    "\n",
    "**ppr_numerator** – (Numeric) Observed Number of Potentially Preventable Readmissions Following Discharge.\n",
    "\n",
    "**ppr_denominator** – (Numeric) Number of Eligible Stays for PPR Measure.\n",
    "\n",
    "**ppr_observed_rate** – (Numeric) Observed Potentially Preventable Readmissions Rate.\n",
    "\n",
    "**ppr_risk-standardized_rate** – (Numeric) Risk-Standardized Potentially Preventable Readmissions Rate.\n",
    "\n",
    "**ppr_risk-standardized_rate_min** – (Numeric) Lower Limit of the 95% Confidence Interval on the Risk- Standardized Potentially Preventable Readmissions Rate.\n",
    "\n",
    "**ppr_risk-standardized_rate_max** – (Numeric) Upper Limit of the 95% Confidence Interval on the Risk- Standardized Potentially Preventable Readmissions Rate.\n",
    "\n",
    "**num_episodes** – (Numeric) Number of episodes of care used to calculate how much Medicare spends on an episode of care at this agency, compared to Medicare spending across all agencies nationally.\n",
    "\n",
    "**ownership_type_** – (Numeric) The general control type of the home health agency. Categories include:\n",
    "    \n",
    "    * ownership_type_GOVERNMENT - LOCAL – 1 (Yes) or 0 (No)\n",
    "    \n",
    "    * ownership_type_GOVERNMENT - STATE/COUNTY – 1 (Yes) or 0 (No)\n",
    "    \n",
    "    * ownership_type_PROPRIETARY – 1 (Yes) or 0 (No)\n",
    "    \n",
    "    * ownership_type_VOLUNTARY NON PROFIT - RELIGIOUS AFFILIATION – 1 (Yes) or 0 (No)\n",
    "   \n",
    "    * ownership_type_VOLUNTARY NON-PROFIT - OTHER – 1 (Yes) or 0 (No)\n",
    "    \n",
    "    * ownership_type_VOLUNTARY NON-PROFIT - PRIVATE – 1 (Yes) or 0 (No)\n",
    "\n",
    "**physical_therapy_Yes** – (Numeric) Offers physical therapy care services,  1 (Yes) or 0 (No)\n",
    "\n",
    "**occupational_therapy_Yes** – (Numeric) Offers nursing care services,  1 (Yes) or 0 (No)\n",
    "\n",
    "**speech_pathology_Yes** – (Numeric) Offers speech pathology care services,  1 (Yes) or 0 (No)\n",
    "\n",
    "**medical_social_Yes** – (Numeric) Offers medical social care services,  1 (Yes) or 0 (No)\n",
    "\n",
    "**home_health_aide_Yes** – (Numeric) Offers home health aide care services,  1 (Yes) or 0 (No)\n",
    "\n",
    "**quality_rating_** – (Numeric) Quality of patient care star rating. A numeric rating from 1 through 5, in increments of 0.5.\n",
    "\n",
    "    * quality_rating_1.5 – 1 (Yes) or 0 (No)\n",
    "\n",
    "    * quality_rating_2.0 – 1 (Yes) or 0 (No)\n",
    "\n",
    "    * quality_rating_2.5 – 1 (Yes) or 0 (No)\n",
    "\n",
    "    * quality_rating_3.0 – 1 (Yes) or 0 (No)\n",
    "\n",
    "    * quality_rating_3.5 – 1 (Yes) or 0 (No)\n",
    "\n",
    "    * quality_rating_4.0 – 1 (Yes) or 0 (No)\n",
    "\n",
    "    * quality_rating_4.5 – 1 (Yes) or 0 (No)\n",
    "\n",
    "    * quality_rating_5.0 – 1 (Yes) or 0 (No)\n",
    "\n",
    "    * quality_rating_3.5.1 – 1 (Yes) or 0 (No)\n",
    "    \n",
    "**dtc_performance_categorization_** – (Numeric) DTC Comparative Performance Category: One of the following descriptive phrases: “Better than National Rate”, “Worse than National Rate”, or “Same as National Rate”\n",
    "\n",
    "    * dtc_performance_categorization_Not Available – 1 (Yes) or 0 (No)\n",
    "\n",
    "    * dtc_performance_categorization_Same As National Rate – 1 (Yes) or 0 (No)\n",
    "\n",
    "    * dtc_performance_categorization_Worse Than National Rate – 1 (Yes) or 0 (No)\n",
    "\n",
    "**ppr_performance_categorization_** – (Numeric) PPR Comparative Performance Category: One of the following descriptive phrases: “Better than National Rate”, “Worse than National Rate”, or “Same as National Rate”.\n",
    "    \n",
    "    * ppr_performance_categorization_Not Available – 1 (Yes) or 0 (No)\n",
    "\n",
    "    * ppr_performance_categorization_Same As National Rate – 1 (Yes) or 0 (No)\n",
    "\n",
    "    * ppr_performance_categorization_Worse Than National Rate – 1 (Yes) or 0 (No)\n",
    "\n",
    "**episodic_medicare_spending** – (Numeric) How much Medicare spends on an episode of care at this agency, compared to Medicare spending across all agencies nationally."
   ]
  },
  {
   "cell_type": "code",
   "execution_count": 4,
   "metadata": {},
   "outputs": [],
   "source": [
    "from sklearn.model_selection import train_test_split\n",
    "from sklearn.linear_model import LinearRegression\n",
    "from sklearn.preprocessing import StandardScaler\n",
    "from sklearn.metrics import r2_score\n",
    "from sklearn import metrics"
   ]
  },
  {
   "cell_type": "code",
   "execution_count": 5,
   "metadata": {},
   "outputs": [],
   "source": [
    "df = technical_df.drop(columns='date_certified')"
   ]
  },
  {
   "cell_type": "markdown",
   "metadata": {},
   "source": [
    "**Linear Regression**"
   ]
  },
  {
   "cell_type": "markdown",
   "metadata": {},
   "source": [
    "Model Baseline"
   ]
  },
  {
   "cell_type": "code",
   "execution_count": 6,
   "metadata": {},
   "outputs": [],
   "source": [
    "# Define feature and target columns\n",
    "# All numeric columns, not including datetime column and target\n",
    "feat_cols = df.columns[:-1]\n",
    "\n",
    "X = df[feat_cols]\n",
    "y = df.episodic_medicare_spending"
   ]
  },
  {
   "cell_type": "code",
   "execution_count": 7,
   "metadata": {},
   "outputs": [
    {
     "data": {
      "text/plain": [
       "array([0.96773761, 0.96773761, 0.96773761, ..., 0.96773761, 0.96773761,\n",
       "       0.96773761])"
      ]
     },
     "execution_count": 7,
     "metadata": {},
     "output_type": "execute_result"
    }
   ],
   "source": [
    "# # Split X and y into training and testing sets.\n",
    "# X_train, X_test, y_train, y_test = train_test_split(X, y, random_state=1)\n",
    "\n",
    "# Create a NumPy array with the same shape as y_test.\n",
    "y_null = np.zeros_like(y, dtype=float)\n",
    "\n",
    "# Fill the array with the mean value of y_test.\n",
    "y_null.fill(y.mean())\n",
    "y_null"
   ]
  },
  {
   "cell_type": "code",
   "execution_count": 8,
   "metadata": {},
   "outputs": [
    {
     "name": "stdout",
     "output_type": "stream",
     "text": [
      "Baseline R2: 0.0\n",
      "Baseline RMSE: 0.13990405735631123\n"
     ]
    }
   ],
   "source": [
    "# Compute R2\n",
    "r2 = r2_score(y, y_null)\n",
    "print(f\"Baseline R2: {r2}\")\n",
    "\n",
    "# Compute null RMSE.\n",
    "baseline_RMSE = np.sqrt(metrics.mean_squared_error(y, y_null))\n",
    "print(f\"Baseline RMSE: {baseline_RMSE}\")"
   ]
  },
  {
   "cell_type": "markdown",
   "metadata": {},
   "source": [
    "**Utilize Ridge Regression to normalize dataset and \n",
    "perform feature selection**"
   ]
  },
  {
   "cell_type": "code",
   "execution_count": 9,
   "metadata": {},
   "outputs": [],
   "source": [
    "from sklearn.model_selection import train_test_split"
   ]
  },
  {
   "cell_type": "code",
   "execution_count": 10,
   "metadata": {},
   "outputs": [],
   "source": [
    "# Define feature and target columns\n",
    "# All numeric columns, not including datetime column and target\n",
    "feat_cols = df.columns[:-1]\n",
    "\n",
    "X = df[feat_cols]\n",
    "y = df.episodic_medicare_spending"
   ]
  },
  {
   "cell_type": "code",
   "execution_count": 11,
   "metadata": {},
   "outputs": [],
   "source": [
    "# Instantiate model\n",
    "lr = LinearRegression()"
   ]
  },
  {
   "cell_type": "code",
   "execution_count": 12,
   "metadata": {},
   "outputs": [],
   "source": [
    "X_train, X_test, y_train, y_test = train_test_split(X, y, random_state=1) #Alpha: 0.0 RMSE: 0.1223"
   ]
  },
  {
   "cell_type": "code",
   "execution_count": 13,
   "metadata": {
    "scrolled": true
   },
   "outputs": [],
   "source": [
    "from sklearn.linear_model import Ridge\n",
    "\n",
    "def run_ridgereg(a, X_train, X_test, y_train, y_test):\n",
    "    '''\n",
    "    Function to run a Ridge Regression model, substituting\n",
    "    in values for alpha. \n",
    "    '''\n",
    "    \n",
    "    # Instantiate ridge model\n",
    "    # alpha=0 has no regularization strength, basic linear regression model\n",
    "    ridgereg = Ridge(alpha=a, normalize=True)\n",
    "\n",
    "    # Fit the model\n",
    "    ridgereg.fit(X_train, y_train)\n",
    "\n",
    "    # Predict from fitted model\n",
    "    y_pred = ridgereg.predict(X_test)\n",
    "    rmse = np.sqrt(metrics.mean_squared_error(y_test, y_pred))\n",
    "    r2 = r2_score(y_test, y_pred)\n",
    "    print(f\"Alpha: {alpha} RMSE: {rmse}, R2:{r2}\")\n",
    "    \n",
    "    # Coefficients for linear regression\n",
    "    zipped = list(zip(feat_cols, ridgereg.coef_))\n",
    "    \n",
    "    # Order magnitudes of coefficient list by absolute value of coefficient\n",
    "    ordered_coef = sorted(zipped, key=lambda x: abs(x[1]), reverse=True)\n",
    "\n",
    "    return(ordered_coef)"
   ]
  },
  {
   "cell_type": "code",
   "execution_count": 14,
   "metadata": {},
   "outputs": [
    {
     "data": {
      "text/plain": [
       "array([0. , 0.1, 0.2, 0.3, 0.4, 0.5, 0.6, 0.7, 0.8, 0.9])"
      ]
     },
     "execution_count": 14,
     "metadata": {},
     "output_type": "execute_result"
    }
   ],
   "source": [
    "alphas = np.arange(0.0, 1.0, 0.1)\n",
    "alphas"
   ]
  },
  {
   "cell_type": "code",
   "execution_count": 15,
   "metadata": {},
   "outputs": [
    {
     "name": "stdout",
     "output_type": "stream",
     "text": [
      "Alpha: 0.0 RMSE: 0.12229763477051281, R2:0.21959439046248197\n",
      "Alpha: 0.1 RMSE: 0.12305703486019831, R2:0.20987253323817945\n",
      "Alpha: 0.2 RMSE: 0.12344866131348102, R2:0.20483540224057828\n",
      "Alpha: 0.3 RMSE: 0.12374976318421282, R2:0.20095172241617776\n",
      "Alpha: 0.4 RMSE: 0.12401962279154106, R2:0.19746297285149517\n",
      "Alpha: 0.5 RMSE: 0.12427480187492473, R2:0.19415702264877266\n",
      "Alpha: 0.6 RMSE: 0.12452091643987136, R2:0.1909620695697889\n",
      "Alpha: 0.7 RMSE: 0.1247600191564945, R2:0.18785208780103047\n",
      "Alpha: 0.8 RMSE: 0.12499286582889398, R2:0.18481774379114146\n",
      "Alpha: 0.9 RMSE: 0.12521972417676522, R2:0.18185599520362306\n"
     ]
    }
   ],
   "source": [
    "# Create two dictionaries to store top ten coefficients by \n",
    "#  magnitude for each run of the Ridge Regression, scaled and unscaled\n",
    "#  alpha values will be keys.\n",
    "coef_dict = {}\n",
    "\n",
    "for alpha in alphas:\n",
    "    alpha = round(alpha, 1)\n",
    "    ordered_coef = run_ridgereg(alpha, X_train, X_test, y_train, y_test)\n",
    "    coef_dict[alpha] = ordered_coef[:11]"
   ]
  },
  {
   "cell_type": "code",
   "execution_count": 16,
   "metadata": {},
   "outputs": [],
   "source": [
    "# Each of these models performs slightly better than the baseline \n",
    "#  RMSE of 0.1384"
   ]
  },
  {
   "cell_type": "code",
   "execution_count": 17,
   "metadata": {},
   "outputs": [
    {
     "data": {
      "text/plain": [
       "['quality_rating_3.0',\n",
       " 'quality_rating_3.5',\n",
       " 'quality_rating_4.5',\n",
       " 'quality_rating_4.0',\n",
       " 'ppr_performance_categorization_Not Available',\n",
       " 'quality_rating_2.5',\n",
       " 'quality_rating_1.5',\n",
       " 'quality_rating_5.0',\n",
       " 'dtc_performance_categorization_Worse Than National Rate',\n",
       " 'quality_rating_2.0',\n",
       " 'dtc_performance_categorization_Same As National Rate']"
      ]
     },
     "execution_count": 17,
     "metadata": {},
     "output_type": "execute_result"
    }
   ],
   "source": [
    "# UNSCALED: Find the most important features by extracting the top \n",
    "#  ten features by coefficient magnitude when alpha = 0.0,\n",
    "#  since this (basic linear regression) model produced the lowest RMSE\n",
    "\n",
    "# Create an empty list to store coefficients\n",
    "coef_list = []\n",
    "\n",
    "for item in coef_dict[0.0]:\n",
    "    coef_list.append(item[0])\n",
    "coef_list"
   ]
  },
  {
   "cell_type": "markdown",
   "metadata": {},
   "source": [
    "**Cross Validation with all features**"
   ]
  },
  {
   "cell_type": "code",
   "execution_count": 18,
   "metadata": {},
   "outputs": [],
   "source": [
    "from sklearn.model_selection import cross_val_score\n",
    "from sklearn.model_selection import cross_validate"
   ]
  },
  {
   "cell_type": "code",
   "execution_count": 19,
   "metadata": {},
   "outputs": [],
   "source": [
    "cols = df.columns"
   ]
  },
  {
   "cell_type": "code",
   "execution_count": 20,
   "metadata": {},
   "outputs": [],
   "source": [
    "lr_all = LinearRegression()\n",
    "\n",
    "X_all = df[cols[1:-1]]\n",
    "y_all = df.episodic_medicare_spending"
   ]
  },
  {
   "cell_type": "code",
   "execution_count": 21,
   "metadata": {},
   "outputs": [],
   "source": [
    "# Scale features\n",
    "# RMSE: 0.1256061573822357 (same with and without scaling)\n",
    "scaled = StandardScaler()\n",
    "X_scaled_all = scaled.fit_transform(X_all)"
   ]
  },
  {
   "cell_type": "code",
   "execution_count": 22,
   "metadata": {},
   "outputs": [
    {
     "name": "stdout",
     "output_type": "stream",
     "text": [
      "RMSE: 0.1256404367057782\n",
      "R2: 0.16628696457440925\n"
     ]
    }
   ],
   "source": [
    "# Instantiate linear regression model via cross validation\n",
    "scores = cross_validate(lr, X_all, y_all, scoring=('neg_mean_squared_error', 'r2'), cv=10)\n",
    "\n",
    "print(f\"RMSE: {np.sqrt(abs(np.mean(scores['test_neg_mean_squared_error'])))}\")\n",
    "print(f\"R2: {np.mean(scores['test_r2'])}\")"
   ]
  },
  {
   "cell_type": "markdown",
   "metadata": {},
   "source": [
    "**Select Specific Features**"
   ]
  },
  {
   "cell_type": "code",
   "execution_count": 23,
   "metadata": {},
   "outputs": [],
   "source": [
    "# Train a linear regression model with coefficients selected\n",
    "#  from unscaled model above, using Cross Validation\n",
    "\n",
    "# Assign feature list and target feature\n",
    "X = df[coef_list]\n",
    "y = df.episodic_medicare_spending\n",
    "\n",
    "# Instantiate a linear regression model\n",
    "lr = LinearRegression()"
   ]
  },
  {
   "cell_type": "code",
   "execution_count": 24,
   "metadata": {},
   "outputs": [],
   "source": [
    "# Instantiate Standard Scaler\n",
    "scaled = StandardScaler()\n",
    "# Scaled features\n",
    "X_scaled = scaled.fit_transform(X)"
   ]
  },
  {
   "cell_type": "code",
   "execution_count": 25,
   "metadata": {},
   "outputs": [
    {
     "name": "stdout",
     "output_type": "stream",
     "text": [
      "RMSE: 0.1256404367057782\n",
      "R2: 0.16628696457440925\n"
     ]
    }
   ],
   "source": [
    "# Instantiate linear regression model via cross validation\n",
    "\n",
    "scores = cross_validate(lr, X_all, y_all, scoring=('r2', 'neg_mean_squared_error'), cv=10)\n",
    "print(f\"RMSE: {np.sqrt(abs(np.mean(scores['test_neg_mean_squared_error'])))}\")\n",
    "print(f\"R2: {np.mean(scores['test_r2'])}\")"
   ]
  },
  {
   "cell_type": "code",
   "execution_count": 26,
   "metadata": {},
   "outputs": [],
   "source": [
    "# The Cross Validated model with selected featured does not \n",
    "#  perform better than the basic linear regression model \n",
    "#  with all features, of 0.1223"
   ]
  },
  {
   "cell_type": "markdown",
   "metadata": {},
   "source": [
    "**More Feature selection methods**"
   ]
  },
  {
   "cell_type": "code",
   "execution_count": 27,
   "metadata": {},
   "outputs": [],
   "source": [
    "def train_test_rmse(df, feature_cols):\n",
    "    '''\n",
    "    Function accepting a list of features and returns an R2 and RMSE for\n",
    "    test dataset after fitting linear regression model.\n",
    "    '''\n",
    "    \n",
    "    # Assign feature list and target feature\n",
    "    X = df[feature_cols]\n",
    "    y = df.episodic_medicare_spending\n",
    "    \n",
    "    X_train, X_test, y_train, y_test = train_test_split(X_scaled, y, random_state=1)\n",
    "    \n",
    "    # Instantiate the model\n",
    "    lr = LinearRegression()\n",
    "    # Fit the model\n",
    "    lr.fit(X_train, y_train)\n",
    "    \n",
    "    # Predict using the model\n",
    "    y_pred = lr.predict(X_test)\n",
    "    # Returns R^2 of the prediction.\n",
    "    r2 = r2_score(y_test, y_pred)\n",
    "    \n",
    "    # Return R2 and RMSE\n",
    "    return r2, np.sqrt(metrics.mean_squared_error(y_test, y_pred))"
   ]
  },
  {
   "cell_type": "code",
   "execution_count": 28,
   "metadata": {},
   "outputs": [
    {
     "name": "stdout",
     "output_type": "stream",
     "text": [
      "Features selected from unscaled model: R2=0.14781967020634235, RMSE=0.12779787114791386\n"
     ]
    }
   ],
   "source": [
    "print(f\"Features selected from unscaled model: R2={train_test_rmse(df, coef_list)[0]},\\\n",
    " RMSE={train_test_rmse(df, coef_list)[1]}\")"
   ]
  },
  {
   "cell_type": "markdown",
   "metadata": {},
   "source": [
    "**Create KNN model**"
   ]
  },
  {
   "cell_type": "code",
   "execution_count": 29,
   "metadata": {},
   "outputs": [],
   "source": [
    "from sklearn.neighbors import KNeighborsClassifier\n",
    "from sklearn.model_selection import train_test_split\n",
    "from sklearn import preprocessing\n",
    "from sklearn import metrics"
   ]
  },
  {
   "cell_type": "code",
   "execution_count": 30,
   "metadata": {},
   "outputs": [
    {
     "data": {
      "text/plain": [
       "count    9238.000000\n",
       "mean        0.967738\n",
       "std         0.139912\n",
       "min         0.340000\n",
       "25%         0.890000\n",
       "50%         0.970000\n",
       "75%         1.050000\n",
       "max         2.190000\n",
       "Name: episodic_medicare_spending, dtype: float64"
      ]
     },
     "execution_count": 30,
     "metadata": {},
     "output_type": "execute_result"
    }
   ],
   "source": [
    "df.episodic_medicare_spending.describe()"
   ]
  },
  {
   "cell_type": "code",
   "execution_count": 31,
   "metadata": {},
   "outputs": [],
   "source": [
    "cols = df.columns\n",
    "feature_cols = cols[1:-1]\n",
    "\n",
    "# Assign feature list and target feature\n",
    "X = df[feature_cols]\n",
    "y = df.episodic_medicare_spending\n",
    "\n",
    "le = preprocessing.LabelEncoder()\n",
    "y = le.fit_transform(y)\n",
    "\n",
    "# Instantiate Standard Scaler\n",
    "scaled = StandardScaler()\n",
    "# Scale features\n",
    "X_scaled = scaled.fit_transform(X)"
   ]
  },
  {
   "cell_type": "code",
   "execution_count": 32,
   "metadata": {},
   "outputs": [],
   "source": [
    "X_train, X_test, y_train, y_test = train_test_split(X_scaled, y, random_state=1)"
   ]
  },
  {
   "cell_type": "code",
   "execution_count": 33,
   "metadata": {},
   "outputs": [
    {
     "data": {
      "text/plain": [
       "KNeighborsClassifier(algorithm='auto', leaf_size=30, metric='minkowski',\n",
       "                     metric_params=None, n_jobs=None, n_neighbors=3, p=2,\n",
       "                     weights='uniform')"
      ]
     },
     "execution_count": 33,
     "metadata": {},
     "output_type": "execute_result"
    }
   ],
   "source": [
    "# Train the model on the traning dataset with\n",
    "#  3 nearest-neighbors.\n",
    "knn = KNeighborsClassifier(n_neighbors=3)\n",
    "knn.fit(X_train, y_train)"
   ]
  },
  {
   "cell_type": "code",
   "execution_count": 34,
   "metadata": {},
   "outputs": [
    {
     "name": "stdout",
     "output_type": "stream",
     "text": [
      "RMSE: 16.762279856094334\n",
      "R2: -0.47739994912394423\n"
     ]
    }
   ],
   "source": [
    "# Test the model\n",
    "y_pred_class = knn.predict(X_test)\n",
    "print(f\"RMSE: {np.sqrt(metrics.mean_squared_error(y_test, y_pred_class))}\")\n",
    "print(f\"R2: {metrics.r2_score(y_test, y_pred_class)}\")"
   ]
  },
  {
   "cell_type": "code",
   "execution_count": null,
   "metadata": {},
   "outputs": [],
   "source": []
  }
 ],
 "metadata": {
  "kernelspec": {
   "display_name": "Python 3",
   "language": "python",
   "name": "python3"
  },
  "language_info": {
   "codemirror_mode": {
    "name": "ipython",
    "version": 3
   },
   "file_extension": ".py",
   "mimetype": "text/x-python",
   "name": "python",
   "nbconvert_exporter": "python",
   "pygments_lexer": "ipython3",
   "version": "3.7.4"
  }
 },
 "nbformat": 4,
 "nbformat_minor": 2
}
